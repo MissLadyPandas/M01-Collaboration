{
 "cells": [
  {
   "cell_type": "code",
   "execution_count": 25,
   "id": "e0c72c44-70c6-42d7-8a5d-e02c7c3df0a6",
   "metadata": {},
   "outputs": [],
   "source": [
    "##3.1 How many seconds are in an hour? Use the interactive interpreter as a calculator and multiply the number of seconds in a minute (60) by the number of minutes in an hour (also 60).\n",
    "\n",
    "##3.2 Assign the result from the previous task (seconds in an hour) to a variable called seconds_per_hour.\n",
    "\n",
    "##3.3 How many seconds are in a day? Use your seconds_per_hour variable.\n",
    "\n",
    "##3.4 Calculate seconds per day again, but this time save the result in a variable called seconds_per_day.\n",
    "\n",
    "##3.5 Divide seconds_per_day by seconds_per_hour. Use floating-point (/) division.\n",
    "\n",
    "##3.6 Divide seconds_per_day by seconds_per_hour, using integer (//) division. Did this number agree with the floating-point value from the previous question, aside from the final .0?"
   ]
  },
  {
   "cell_type": "code",
   "execution_count": 40,
   "id": "8abb4b26-cc45-454e-9492-805028fb40df",
   "metadata": {},
   "outputs": [],
   "source": [
    "seconds_in_an_hour = 60*60"
   ]
  },
  {
   "cell_type": "code",
   "execution_count": 49,
   "id": "b87ce919-37f8-4996-9939-8871168317c5",
   "metadata": {},
   "outputs": [
    {
     "name": "stdout",
     "output_type": "stream",
     "text": [
      "Seconds in an hour: 3600\n"
     ]
    }
   ],
   "source": [
    "print(\"Seconds in an hour:\", seconds_in_an_hour)"
   ]
  },
  {
   "cell_type": "code",
   "execution_count": 50,
   "id": "42cea04d-921f-4525-b7dc-9621e599de4e",
   "metadata": {},
   "outputs": [],
   "source": [
    "seconds_in_a_day = seconds_per_hour * 24"
   ]
  },
  {
   "cell_type": "code",
   "execution_count": 43,
   "id": "34544272-3cea-49de-a9f1-fff5acaff377",
   "metadata": {},
   "outputs": [
    {
     "name": "stdout",
     "output_type": "stream",
     "text": [
      "86400\n"
     ]
    }
   ],
   "source": [
    "print(seconds_in_a_day)"
   ]
  },
  {
   "cell_type": "code",
   "execution_count": 44,
   "id": "189ee768-9c2e-4e40-9abd-2c7f934d541a",
   "metadata": {},
   "outputs": [],
   "source": [
    "seconds_per_day = seconds_in_a_day"
   ]
  },
  {
   "cell_type": "code",
   "execution_count": 45,
   "id": "5186a290-b0d2-40fc-adcc-a7bad2faa540",
   "metadata": {},
   "outputs": [
    {
     "data": {
      "text/plain": [
       "24.0"
      ]
     },
     "execution_count": 45,
     "metadata": {},
     "output_type": "execute_result"
    }
   ],
   "source": [
    "seconds_per_day / seconds_per_hour"
   ]
  },
  {
   "cell_type": "code",
   "execution_count": 48,
   "id": "84a674d9-2184-4871-984f-7adafb57407d",
   "metadata": {},
   "outputs": [
    {
     "name": "stdout",
     "output_type": "stream",
     "text": [
      "Seconds in a day: 86400\n"
     ]
    }
   ],
   "source": [
    "seconds_per_day // seconds_per_hour \n",
    "print(\"Seconds in a day:\", seconds_per_day)"
   ]
  },
  {
   "cell_type": "code",
   "execution_count": 47,
   "id": "e43d5c7d-8231-4a10-86d4-75421b1fd0dd",
   "metadata": {},
   "outputs": [
    {
     "name": "stdout",
     "output_type": "stream",
     "text": [
      "Floating-point division (seconds_per_day / seconds_per_hour): 24.0\n",
      "Integer division (seconds_per_day // seconds_per_hour): 24\n"
     ]
    }
   ],
   "source": [
    "print(\"Floating-point division (seconds_per_day / seconds_per_hour):\", seconds_per_day / seconds_per_hour)\n",
    "print(\"Integer division (seconds_per_day // seconds_per_hour):\", seconds_per_day // seconds_per_hour)"
   ]
  },
  {
   "cell_type": "code",
   "execution_count": null,
   "id": "1c6cc9c8-bf44-46de-83f5-5d19095170c2",
   "metadata": {},
   "outputs": [],
   "source": []
  }
 ],
 "metadata": {
  "kernelspec": {
   "display_name": "Python 3 (ipykernel)",
   "language": "python",
   "name": "python3"
  },
  "language_info": {
   "codemirror_mode": {
    "name": "ipython",
    "version": 3
   },
   "file_extension": ".py",
   "mimetype": "text/x-python",
   "name": "python",
   "nbconvert_exporter": "python",
   "pygments_lexer": "ipython3",
   "version": "3.11.7"
  }
 },
 "nbformat": 4,
 "nbformat_minor": 5
}
